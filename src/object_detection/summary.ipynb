{
 "cells": [
  {
   "cell_type": "code",
   "execution_count": 1,
   "metadata": {},
   "outputs": [],
   "source": [
    "import numpy as np\n",
    "import numpy.linalg as la\n",
    "import pprint\n",
    "import scipy\n",
    "import scipy.linalg\n",
    "import matplotlib.pyplot as plt\n",
    "import matplotlib"
   ]
  },
  {
   "cell_type": "markdown",
   "metadata": {},
   "source": [
    "# Vector Laws\n",
    "\n",
    "1. $\\quad \\mathbf{a}+\\mathbf{b}=\\mathbf{b}+\\mathbf{a} \\quad$ Kommutativgesetz\n",
    "2. $\\quad \\mathbf{a}+(\\mathbf{b}+\\mathbf{c})=(\\mathbf{a}+\\mathbf{b})+\\mathbf{c} \\quad$ Assoziativgesetz\n",
    "3. $\\quad \\mathbf{a}+\\mathbf{0}=\\mathbf{a} \\quad$ Existenz eines Neutralelements 0\n",
    "4. $\\quad \\mathbf{a}+(-\\mathbf{a})=\\mathbf{0} \\quad$ Existenz des Inversen -a von a\n",
    "5. $\\quad \\lambda(\\mathbf{a}+\\mathbf{b})=\\lambda \\mathbf{a}+\\lambda \\mathbf{b}$\n",
    "6. $\\quad(\\lambda+\\mu) \\mathbf{a}=\\lambda \\mathbf{a}+\\mu \\mathbf{a}$\n",
    "7. $\\quad(\\lambda \\mu) \\mathbf{a}=\\lambda(\\mu \\mathbf{a})=\\mu(\\lambda \\mathbf{a})$\n",
    "8. $\\quad1 a=a$\n"
   ]
  },
  {
   "cell_type": "markdown",
   "metadata": {},
   "source": [
    "# Intersection of two Lines\n",
    "\n",
    "If the tip of the vector $p$ points to a point on the line $g$, and the line runs in the direction of the vector $u$, then the equation $g:r=p+λu$ generates all points of the line, as $\\lambda$ runs through all real numbers.\n",
    "\n",
    "#### Definition\n",
    "\n",
    "$$\n",
    "g:r=\\begin{pmatrix}\n",
    "pg_{1} \\\\\n",
    "pg_{2}\n",
    "\\end{pmatrix}+\\lambda \\begin{pmatrix}\n",
    "ug_{1} \\\\\n",
    "ug_{2} \\\\\n",
    "\\end{pmatrix}\n",
    "\\quad\n",
    "h:r=\\begin{pmatrix}\n",
    "ph_{1} \\\\\n",
    "ph_{2} \\\\\n",
    "\\end{pmatrix}+\\upsilon \\begin{pmatrix}\n",
    "uh_{1} \\\\\n",
    "uh_{2}\n",
    "\\end{pmatrix} \\Rrightarrow\n",
    "\\begin{pmatrix}\n",
    "pg_{1} \\\\\n",
    "pg_{2}\n",
    "\\end{pmatrix}+\\lambda \\begin{pmatrix}\n",
    "ug_{1} \\\\\n",
    "ug_{2} \\\\\n",
    "\\end{pmatrix}\n",
    "=\n",
    "\\begin{pmatrix}\n",
    "ph_{1} \\\\\n",
    "ph_{2} \\\\\n",
    "\\end{pmatrix}+\\upsilon \\begin{pmatrix}\n",
    "uh_{1} \\\\\n",
    "uh_{2}\n",
    "\\end{pmatrix}\n",
    "$$\n",
    "\n",
    "Which gives us a system of equations to solve:\n",
    "\n",
    "$$\n",
    "\\begin{align}\n",
    "pg_{1}-\\lambda ug_{1}=ph_{1}+\\upsilon uh_{1}  \\\\\n",
    "pg_{2}-\\lambda ug_{2}=ph_{2}+\\upsilon uh_{2}\n",
    "\\end{align}\n",
    "$$\n",
    "\n",
    "#### Example\n",
    "\n",
    "$$\n",
    "g:r=\\begin{pmatrix}\n",
    "-3 \\\\\n",
    "2\n",
    "\\end{pmatrix}+\\lambda \\begin{pmatrix}\n",
    "2 \\\\\n",
    "2 \\\\\n",
    "\\end{pmatrix}\n",
    "\\quad\n",
    "h:r=\\begin{pmatrix}\n",
    "4 \\\\\n",
    "3 \\\\\n",
    "\\end{pmatrix}+\\upsilon \\begin{pmatrix}\n",
    "1 \\\\\n",
    "-2\n",
    "\\end{pmatrix} \\Rrightarrow\n",
    "\\begin{pmatrix}\n",
    "-3 \\\\\n",
    "2\n",
    "\\end{pmatrix}+\\lambda \\begin{pmatrix}\n",
    "2 \\\\\n",
    "2 \\\\\n",
    "\\end{pmatrix}\n",
    "=\n",
    "\\begin{pmatrix}\n",
    "4 \\\\\n",
    "3 \\\\\n",
    "\\end{pmatrix}+\\upsilon \\begin{pmatrix}\n",
    "1 \\\\\n",
    "-2\n",
    "\\end{pmatrix}\n",
    "$$\n",
    "\n",
    "turns into following equations:\n",
    "\n",
    "$$\n",
    "\\begin{align}\n",
    "-3+2\\lambda=4+1\\upsilon  & \\Rrightarrow  & -3+2\\lambda=4+1\\upsilon & \\Rrightarrow & -5=1+3\\upsilon \\Rrightarrow -6=3\\upsilon \\Rrightarrow-2=\\upsilon\\\\\n",
    "2+2\\lambda=3-2\\upsilon &   & -2-2\\lambda=-3+2\\upsilon\n",
    "\\end{align}\n",
    "$$\n",
    "\n",
    "put $\\upsilon=-2$ into any equation and you will get $\\lambda=\\frac{5}{2}$ if everything adds up it is correct.\n",
    "\n",
    "Now you can add either value into one of the line equation to get the point where the intersection is. I will use $\\upsilon=-2$.\n",
    "\n",
    "$$\n",
    "4+(-2)=2 \\quad 3-(-4)=7 \\quad \\Rrightarrow \\begin{pmatrix}\n",
    "2 \\\\\n",
    "7\n",
    "\\end{pmatrix}\n",
    "$$\n"
   ]
  },
  {
   "cell_type": "markdown",
   "metadata": {},
   "source": [
    "## With Numpy\n",
    "\n",
    "In NumPy it is very easy to solve linear equations. We need to rearrange the equations into the coefficient matrix and the constant matrix.\n",
    "\n",
    "The coefficient matrix is the left term of the equation\n",
    "\n",
    "$$\n",
    "\\begin{align}\n",
    "-3+2\\lambda=4+1\\upsilon  & \\Rrightarrow  & 2\\lambda-1\\upsilon=4+3 & \\Rrightarrow & 2, -1 \\\\\n",
    "2+2\\lambda=3-2\\upsilon &   & 2\\lambda+2\\upsilon=3-2 & \\Rrightarrow & 2,2\n",
    "\\end{align}\n",
    "$$\n",
    "\n",
    "The constant matrix $b$ is simply the right term of the equation\n",
    "\n",
    "$$\n",
    "\\begin{align}\n",
    "-3+2\\lambda=4+1\\upsilon  & \\Rrightarrow  & 2\\lambda-1\\upsilon=4+3 & \\Rrightarrow & 7 \\\\\n",
    "2+2\\lambda=3-2\\upsilon &   & 2\\lambda+2\\upsilon=3-2 & \\Rrightarrow & 1\n",
    "\\end{align}\n",
    "$$\n",
    "\n",
    "This results in\n",
    "\n",
    "$$\n",
    "Ax = b \\qquad \\Rrightarrow \\begin{bmatrix}\n",
    "2 & -1 \\\\\n",
    "2 & 2\n",
    "\\end{bmatrix}=\\begin{pmatrix}\n",
    "7 \\\\\n",
    "1\n",
    "\\end{pmatrix}\n",
    "$$\n"
   ]
  },
  {
   "cell_type": "code",
   "execution_count": 2,
   "metadata": {},
   "outputs": [
    {
     "data": {
      "text/plain": [
       "array([[ 2.5],\n",
       "       [-2. ]])"
      ]
     },
     "execution_count": 2,
     "metadata": {},
     "output_type": "execute_result"
    }
   ],
   "source": [
    "A = np.array([[2, -1], [2, 2]])\n",
    "b = np.array([[7], [1]])\n",
    "\n",
    "la.solve(A, b)"
   ]
  },
  {
   "cell_type": "code",
   "execution_count": 3,
   "metadata": {},
   "outputs": [
    {
     "data": {
      "text/plain": [
       "array([[2., 7.]])"
      ]
     },
     "execution_count": 3,
     "metadata": {},
     "output_type": "execute_result"
    }
   ],
   "source": [
    "# Substitute in previous equation\n",
    "\n",
    "np.array([[-3, 2]]) + la.solve(A, b)[0] * np.array([2, 2])"
   ]
  },
  {
   "cell_type": "markdown",
   "metadata": {},
   "source": [
    "# Gaussian Elimination\n"
   ]
  },
  {
   "cell_type": "code",
   "execution_count": 4,
   "metadata": {},
   "outputs": [
    {
     "name": "stdout",
     "output_type": "stream",
     "text": [
      "[[ 1 -1  1  3]\n",
      " [ 2  1  8 18]\n",
      " [ 4  2 -3 -2]]\n",
      "\n",
      "R2 = R2 + -2R1    \n",
      "[[ 1. -1.  1.  3.]\n",
      " [ 0.  3.  6. 12.]\n",
      " [ 4.  2. -3. -2.]]\n",
      "\n",
      "R3 = R3 + -4R1    \n",
      "[[  1.  -1.   1.   3.]\n",
      " [  0.   3.   6.  12.]\n",
      " [  0.   6.  -7. -14.]]\n",
      "\n",
      "R2 = R2 * 0.3333333333333333\n",
      "[[  1.  -1.   1.   3.]\n",
      " [  0.   1.   2.   4.]\n",
      " [  0.   6.  -7. -14.]]\n",
      "\n",
      "R3 = R3 + -6R2    \n",
      "[[  1.  -1.   1.   3.]\n",
      " [  0.   1.   2.   4.]\n",
      " [  0.   0. -19. -38.]]\n",
      "\n",
      "R3 = R3 * -0.05263157894736842\n",
      "[[ 1. -1.  1.  3.]\n",
      " [ 0.  1.  2.  4.]\n",
      " [-0. -0.  1.  2.]]\n"
     ]
    }
   ],
   "source": [
    "def RowSwap(A, k, l):\n",
    "    # =============================================================================\n",
    "    #     A is a NumPy array.  RowSwap will return duplicate array with rows\n",
    "    #     k and l swapped.\n",
    "    # =============================================================================\n",
    "    print(f\"\\nSwap R{k+1} and R{l+1}\")\n",
    "    k -= 1\n",
    "    l -= 1\n",
    "    m = A.shape[0]  # m is number of rows in A\n",
    "    n = A.shape[1]  # n is number of columns in A\n",
    "\n",
    "    B = np.copy(A).astype(\"float64\")\n",
    "\n",
    "    for j in range(n):\n",
    "        temp = B[k][j]\n",
    "        B[k][j] = B[l][j]\n",
    "        B[l][j] = temp\n",
    "    print(f\"{B}\")\n",
    "    return B\n",
    "\n",
    "\n",
    "def RowScale(A, k, scale):\n",
    "    # =============================================================================\n",
    "    #     A is a NumPy array.  RowScale will return duplicate array with the\n",
    "    #     entries of row k multiplied by scale.\n",
    "    # =============================================================================\n",
    "    print(f\"\\nR{k} = R{k} * {str(scale)}\")\n",
    "    k -= 1\n",
    "    m = A.shape[0]  # m is number of rows in A\n",
    "    n = A.shape[1]  # n is number of columns in A\n",
    "\n",
    "    B = np.copy(A).astype(\"float64\")\n",
    "\n",
    "    for j in range(n):\n",
    "        B[k][j] *= scale\n",
    "    print(f\"{B}\")\n",
    "    return B\n",
    "\n",
    "\n",
    "def RowAdd(A, k, l, scale):\n",
    "    # =============================================================================\n",
    "    #     A is a numpy array.  RowAdd will return duplicate array with row\n",
    "    #     l modifed.  The new values will be the old values of row l added to\n",
    "    #     the values of row k, multiplied by scale.\n",
    "    # =============================================================================\n",
    "    print(f\"\\nR{l} = R{l} + {str(scale)}R{k}    \")\n",
    "    k -= 1\n",
    "    l -= 1\n",
    "    m = A.shape[0]  # m is number of rows in A\n",
    "    n = A.shape[1]  # n is number of columns in A\n",
    "\n",
    "    B = np.copy(A).astype(\"float64\")\n",
    "\n",
    "    for j in range(n):\n",
    "        B[l][j] += B[k][j] * scale\n",
    "    print(f\"{B}\")\n",
    "    return B\n",
    "\n",
    "\n",
    "A = np.array([[1, -1, 1, 3], [2, 1, 8, 18], [4, 2, -3, -2]])\n",
    "print(A)\n",
    "\n",
    "A = RowAdd(A, 1, 2, -2)\n",
    "\n",
    "\n",
    "A = RowAdd(A, 1, 3, -4)\n",
    "\n",
    "\n",
    "A = RowScale(A, 2, 1 / 3)\n",
    "\n",
    "\n",
    "A = RowAdd(A, 2, 3, -6)\n",
    "\n",
    "\n",
    "A = RowScale(A, 3, -1 / 19)"
   ]
  },
  {
   "cell_type": "markdown",
   "metadata": {},
   "source": [
    "## Gauss Jordan\n"
   ]
  },
  {
   "cell_type": "code",
   "execution_count": 5,
   "metadata": {},
   "outputs": [
    {
     "name": "stdout",
     "output_type": "stream",
     "text": [
      "Inverse:\n",
      "[[-24.  18.   5.]\n",
      " [ 20. -15.  -4.]\n",
      " [ -5.   4.   1.]]\n",
      "\n",
      "Start Matrix: \n",
      "[[1 2 3]\n",
      " [0 1 4]\n",
      " [5 6 0]]\n",
      "\n",
      " Extend the Matrix with the Identity Matrix\n",
      "[[1. 2. 3. 1. 0. 0.]\n",
      " [0. 1. 4. 0. 1. 0.]\n",
      " [5. 6. 0. 0. 0. 1.]]\n",
      "\n",
      "R3 = R3 + -5R1    \n",
      "[[  1.   2.   3.   1.   0.   0.]\n",
      " [  0.   1.   4.   0.   1.   0.]\n",
      " [  0.  -4. -15.  -5.   0.   1.]]\n",
      "\n",
      "R3 = R3 + 4R2    \n",
      "[[ 1.  2.  3.  1.  0.  0.]\n",
      " [ 0.  1.  4.  0.  1.  0.]\n",
      " [ 0.  0.  1. -5.  4.  1.]]\n",
      "\n",
      "R2 = R2 + -4R3    \n",
      "[[  1.   2.   3.   1.   0.   0.]\n",
      " [  0.   1.   0.  20. -15.  -4.]\n",
      " [  0.   0.   1.  -5.   4.   1.]]\n",
      "\n",
      "R1 = R1 + -3R3    \n",
      "[[  1.   2.   0.  16. -12.  -3.]\n",
      " [  0.   1.   0.  20. -15.  -4.]\n",
      " [  0.   0.   1.  -5.   4.   1.]]\n",
      "\n",
      "R1 = R1 + -2R2    \n",
      "[[  1.   0.   0. -24.  18.   5.]\n",
      " [  0.   1.   0.  20. -15.  -4.]\n",
      " [  0.   0.   1.  -5.   4.   1.]]\n",
      "Inverse:\n",
      "[[-24.  18.   5.]\n",
      " [ 20. -15.  -4.]\n",
      " [ -5.   4.   1.]]\n"
     ]
    }
   ],
   "source": [
    "A = np.array([[1, 2, 3], [0, 1, 4], [5, 6, 0]])\n",
    "AI = la.inv(A)\n",
    "print(f\"Inverse:\\n{AI}\")\n",
    "print(f\"\\nStart Matrix: \\n{A}\")\n",
    "A = np.append(A, np.eye(3), axis=1)\n",
    "print(f\"\\n Extend the Matrix with the Identity Matrix\\n{A}\")\n",
    "\n",
    "\n",
    "A = RowAdd(A, 1, 3, -5)\n",
    "A = RowAdd(A, 2, 3, 4)\n",
    "A = RowAdd(A, 3, 2, -4)\n",
    "A = RowAdd(A, 3, 1, -3)\n",
    "A = RowAdd(A, 2, 1, -2)\n",
    "print(f\"Inverse:\\n{AI}\")"
   ]
  },
  {
   "cell_type": "markdown",
   "metadata": {},
   "source": [
    "# LU Zerlegung\n"
   ]
  },
  {
   "cell_type": "code",
   "execution_count": 6,
   "metadata": {},
   "outputs": [
    {
     "data": {
      "text/plain": [
       "array([[ 1,  2,  1],\n",
       "       [ 2,  1,  0],\n",
       "       [-3,  0,  9]])"
      ]
     },
     "execution_count": 6,
     "metadata": {},
     "output_type": "execute_result"
    }
   ],
   "source": [
    "A = np.array([[1, 2, 1], [2, 1, 0], [-3, 0, 9]])\n",
    "A"
   ]
  },
  {
   "cell_type": "code",
   "execution_count": 7,
   "metadata": {},
   "outputs": [
    {
     "data": {
      "text/plain": [
       "array([[ 1.,  2.,  1.],\n",
       "       [ 0., -3., -2.],\n",
       "       [-3.,  0.,  9.]])"
      ]
     },
     "execution_count": 7,
     "metadata": {},
     "output_type": "execute_result"
    }
   ],
   "source": [
    "# 3x3 Einheitsmatrix\n",
    "E = np.eye(3, 3)\n",
    "\n",
    "# manipuliere das gewünschte element in das richtige\n",
    "E21 = E.copy()\n",
    "E21[1, 0] = -2\n",
    "\n",
    "E21 @ A"
   ]
  },
  {
   "cell_type": "code",
   "execution_count": 8,
   "metadata": {},
   "outputs": [
    {
     "name": "stdout",
     "output_type": "stream",
     "text": [
      "[[1. 0. 0.]\n",
      " [0. 1. 0.]\n",
      " [3. 0. 1.]]\n"
     ]
    },
    {
     "data": {
      "text/plain": [
       "array([[ 1.,  2.,  1.],\n",
       "       [ 0., -3., -2.],\n",
       "       [ 0.,  6., 12.]])"
      ]
     },
     "execution_count": 8,
     "metadata": {},
     "output_type": "execute_result"
    }
   ],
   "source": [
    "E31 = E.copy()\n",
    "E31[2, 0] = 3\n",
    "\n",
    "print(E31)\n",
    "\n",
    "E31 @ E21 @ A"
   ]
  },
  {
   "cell_type": "code",
   "execution_count": 9,
   "metadata": {},
   "outputs": [
    {
     "name": "stdout",
     "output_type": "stream",
     "text": [
      "[[1. 0. 0.]\n",
      " [0. 1. 0.]\n",
      " [0. 2. 1.]]\n"
     ]
    },
    {
     "data": {
      "text/plain": [
       "array([[ 1.,  2.,  1.],\n",
       "       [ 0., -3., -2.],\n",
       "       [ 0.,  0.,  8.]])"
      ]
     },
     "execution_count": 9,
     "metadata": {},
     "output_type": "execute_result"
    }
   ],
   "source": [
    "E32 = E.copy()\n",
    "E32[2, 1] = 2\n",
    "\n",
    "print(E32)\n",
    "\n",
    "E32 @ E31 @ E21 @ A"
   ]
  },
  {
   "cell_type": "code",
   "execution_count": 10,
   "metadata": {},
   "outputs": [],
   "source": [
    "U = E32 @ E31 @ E21 @ A"
   ]
  },
  {
   "cell_type": "code",
   "execution_count": 11,
   "metadata": {},
   "outputs": [],
   "source": [
    "L = la.inv(E21) @ la.inv(E31) @ la.inv(E32)"
   ]
  },
  {
   "cell_type": "code",
   "execution_count": 12,
   "metadata": {},
   "outputs": [
    {
     "data": {
      "text/plain": [
       "array([[ 1.,  2.,  1.],\n",
       "       [ 2.,  1.,  0.],\n",
       "       [-3.,  0.,  9.]])"
      ]
     },
     "execution_count": 12,
     "metadata": {},
     "output_type": "execute_result"
    }
   ],
   "source": [
    "L @ U"
   ]
  },
  {
   "cell_type": "code",
   "execution_count": 13,
   "metadata": {},
   "outputs": [
    {
     "data": {
      "text/plain": [
       "array([[0., 0., 0.],\n",
       "       [0., 0., 0.],\n",
       "       [0., 0., 0.]])"
      ]
     },
     "execution_count": 13,
     "metadata": {},
     "output_type": "execute_result"
    }
   ],
   "source": [
    "A - L @ U"
   ]
  },
  {
   "cell_type": "markdown",
   "metadata": {},
   "source": [
    "## LU Decomposition Function\n"
   ]
  },
  {
   "cell_type": "code",
   "execution_count": 14,
   "metadata": {},
   "outputs": [],
   "source": [
    "def LU(A):\n",
    "    n = A.shape[0]\n",
    "    L = np.eye(n)\n",
    "    U = np.copy(A)\n",
    "\n",
    "    for i in range(n - 1):\n",
    "        L[i + 1 : n, i] = U[i + 1 : n, i] / U[i, i]\n",
    "        for k in range(i + 1, n):\n",
    "            U[k, i:n] = U[k, i:n] - (L[k, i] * U[i, i:n])\n",
    "\n",
    "    return (L, U)\n",
    "\n",
    "\n",
    "def EliminationMatix(A, E, r1, r2):\n",
    "    E = np.eye(A.shape[0])  # Identity Matrix based on A size\n",
    "    Ex = E.copy()\n",
    "    print(f\"\\nE{r1}{r2} factor:  \")\n",
    "    x = input()\n",
    "    print(x)\n",
    "    Ex[r1 - 1, r2 - 1] = x\n",
    "    print(f\"\\nE{r1}{r2} =\\n\")\n",
    "    print(Ex)\n",
    "    return Ex\n",
    "\n",
    "\n",
    "def LUSteps(A):\n",
    "    # A is the input Matrix\n",
    "    # Ex Elimination Matrixes\n",
    "    # *args Elimination Matrixes as arguments\n",
    "    print(f\"A = \\n{A}\")\n",
    "    E21 = EliminationMatix(A, E, 2, 1)\n",
    "    E31 = EliminationMatix(A, E, 3, 1)\n",
    "    E32 = EliminationMatix(A, E, 3, 2)\n",
    "    print(f\"\\nL=\\n\")\n",
    "    print(la.inv(E21) @ la.inv(E31) @ la.inv(E32))\n",
    "    print(f\"\\nU =\\n\")\n",
    "    print(E32 @ E31 @ E21 @ A)\n",
    "    print(f\"\\nLU=\\n\")\n",
    "    print(L @ U)\n",
    "    print(f\"\\nCheck A - L@U =\\n\")\n",
    "    print(A - L @ U)\n",
    "\n",
    "    return L, U"
   ]
  },
  {
   "cell_type": "code",
   "execution_count": 15,
   "metadata": {},
   "outputs": [
    {
     "name": "stdout",
     "output_type": "stream",
     "text": [
      "A = \n",
      "[[ 1  2  1]\n",
      " [ 2  1  0]\n",
      " [-3  0  9]]\n",
      "\n",
      "E21 factor:  \n",
      "\n"
     ]
    },
    {
     "ename": "ValueError",
     "evalue": "could not convert string to float: ''",
     "output_type": "error",
     "traceback": [
      "\u001b[1;31m---------------------------------------------------------------------------\u001b[0m",
      "\u001b[1;31mValueError\u001b[0m                                Traceback (most recent call last)",
      "\u001b[1;32mc:\\Users\\kevin\\OneDrive\\Dev\\Python\\Linear Algebra\\summary.ipynb Cell 22\u001b[0m line \u001b[0;36m1\n\u001b[1;32m----> <a href='vscode-notebook-cell:/c%3A/Users/kevin/OneDrive/Dev/Python/Linear%20Algebra/summary.ipynb#X30sZmlsZQ%3D%3D?line=0'>1</a>\u001b[0m LUSteps(A)\n",
      "\u001b[1;32mc:\\Users\\kevin\\OneDrive\\Dev\\Python\\Linear Algebra\\summary.ipynb Cell 22\u001b[0m line \u001b[0;36m3\n\u001b[0;32m     <a href='vscode-notebook-cell:/c%3A/Users/kevin/OneDrive/Dev/Python/Linear%20Algebra/summary.ipynb#X30sZmlsZQ%3D%3D?line=25'>26</a>\u001b[0m \u001b[39mdef\u001b[39;00m \u001b[39mLUSteps\u001b[39m(A):\n\u001b[0;32m     <a href='vscode-notebook-cell:/c%3A/Users/kevin/OneDrive/Dev/Python/Linear%20Algebra/summary.ipynb#X30sZmlsZQ%3D%3D?line=26'>27</a>\u001b[0m     \u001b[39m# A is the input Matrix\u001b[39;00m\n\u001b[0;32m     <a href='vscode-notebook-cell:/c%3A/Users/kevin/OneDrive/Dev/Python/Linear%20Algebra/summary.ipynb#X30sZmlsZQ%3D%3D?line=27'>28</a>\u001b[0m     \u001b[39m# Ex Elimination Matrixes\u001b[39;00m\n\u001b[0;32m     <a href='vscode-notebook-cell:/c%3A/Users/kevin/OneDrive/Dev/Python/Linear%20Algebra/summary.ipynb#X30sZmlsZQ%3D%3D?line=28'>29</a>\u001b[0m     \u001b[39m# *args Elimination Matrixes as arguments\u001b[39;00m\n\u001b[0;32m     <a href='vscode-notebook-cell:/c%3A/Users/kevin/OneDrive/Dev/Python/Linear%20Algebra/summary.ipynb#X30sZmlsZQ%3D%3D?line=29'>30</a>\u001b[0m     \u001b[39mprint\u001b[39m(\u001b[39mf\u001b[39m\u001b[39m\"\u001b[39m\u001b[39mA = \u001b[39m\u001b[39m\\n\u001b[39;00m\u001b[39m{\u001b[39;00mA\u001b[39m}\u001b[39;00m\u001b[39m\"\u001b[39m)\n\u001b[1;32m---> <a href='vscode-notebook-cell:/c%3A/Users/kevin/OneDrive/Dev/Python/Linear%20Algebra/summary.ipynb#X30sZmlsZQ%3D%3D?line=30'>31</a>\u001b[0m     E21 \u001b[39m=\u001b[39m EliminationMatix(A, E, \u001b[39m2\u001b[39m, \u001b[39m1\u001b[39m)\n\u001b[0;32m     <a href='vscode-notebook-cell:/c%3A/Users/kevin/OneDrive/Dev/Python/Linear%20Algebra/summary.ipynb#X30sZmlsZQ%3D%3D?line=31'>32</a>\u001b[0m     E31 \u001b[39m=\u001b[39m EliminationMatix(A, E, \u001b[39m3\u001b[39m, \u001b[39m1\u001b[39m)\n\u001b[0;32m     <a href='vscode-notebook-cell:/c%3A/Users/kevin/OneDrive/Dev/Python/Linear%20Algebra/summary.ipynb#X30sZmlsZQ%3D%3D?line=32'>33</a>\u001b[0m     E32 \u001b[39m=\u001b[39m EliminationMatix(A, E, \u001b[39m3\u001b[39m, \u001b[39m2\u001b[39m)\n",
      "\u001b[1;32mc:\\Users\\kevin\\OneDrive\\Dev\\Python\\Linear Algebra\\summary.ipynb Cell 22\u001b[0m line \u001b[0;36m2\n\u001b[0;32m     <a href='vscode-notebook-cell:/c%3A/Users/kevin/OneDrive/Dev/Python/Linear%20Algebra/summary.ipynb#X30sZmlsZQ%3D%3D?line=17'>18</a>\u001b[0m x \u001b[39m=\u001b[39m \u001b[39minput\u001b[39m()\n\u001b[0;32m     <a href='vscode-notebook-cell:/c%3A/Users/kevin/OneDrive/Dev/Python/Linear%20Algebra/summary.ipynb#X30sZmlsZQ%3D%3D?line=18'>19</a>\u001b[0m \u001b[39mprint\u001b[39m(x)\n\u001b[1;32m---> <a href='vscode-notebook-cell:/c%3A/Users/kevin/OneDrive/Dev/Python/Linear%20Algebra/summary.ipynb#X30sZmlsZQ%3D%3D?line=19'>20</a>\u001b[0m Ex[r1 \u001b[39m-\u001b[39m \u001b[39m1\u001b[39m, r2 \u001b[39m-\u001b[39m \u001b[39m1\u001b[39m] \u001b[39m=\u001b[39m x\n\u001b[0;32m     <a href='vscode-notebook-cell:/c%3A/Users/kevin/OneDrive/Dev/Python/Linear%20Algebra/summary.ipynb#X30sZmlsZQ%3D%3D?line=20'>21</a>\u001b[0m \u001b[39mprint\u001b[39m(\u001b[39mf\u001b[39m\u001b[39m\"\u001b[39m\u001b[39m\\n\u001b[39;00m\u001b[39mE\u001b[39m\u001b[39m{\u001b[39;00mr1\u001b[39m}\u001b[39;00m\u001b[39m{\u001b[39;00mr2\u001b[39m}\u001b[39;00m\u001b[39m =\u001b[39m\u001b[39m\\n\u001b[39;00m\u001b[39m\"\u001b[39m)\n\u001b[0;32m     <a href='vscode-notebook-cell:/c%3A/Users/kevin/OneDrive/Dev/Python/Linear%20Algebra/summary.ipynb#X30sZmlsZQ%3D%3D?line=21'>22</a>\u001b[0m \u001b[39mprint\u001b[39m(Ex)\n",
      "\u001b[1;31mValueError\u001b[0m: could not convert string to float: ''"
     ]
    }
   ],
   "source": [
    "LUSteps(A)"
   ]
  },
  {
   "cell_type": "markdown",
   "metadata": {},
   "source": [
    "## Solving a system of linear equation with LU-Decomposition\n",
    "\n",
    "The original system of linear equation $Ax = b$ can be simplified with LU-decomposition:\n",
    "\n",
    "$$\n",
    "\\begin{align}\n",
    "Ax=b \\\\\n",
    "A=LU \\\\\n",
    "LUx=b\n",
    "\\end{align}\n",
    "$$\n",
    "\n",
    "Now we define:\n",
    "\n",
    "$$\n",
    "\\begin{align}\n",
    "Ly=b \\\\\n",
    "Ux=y\n",
    "\\end{align}\n",
    "$$\n",
    "\n",
    "### Example\n",
    "\n",
    "$$\n",
    "\\begin{align}\n",
    "u+2v=5 \\\\\n",
    "4u+9v=21\n",
    "\\end{align}\n",
    "$$\n",
    "\n",
    "Converted to matrixes\n",
    "\n",
    "$$\n",
    "A=\\begin{pmatrix}\n",
    "1 & 2 \\\\\n",
    "4 & 9\n",
    "\\end{pmatrix}\\cdot \\begin{pmatrix}\n",
    "u \\\\\n",
    "v\n",
    "\\end{pmatrix}=\\begin{pmatrix}\n",
    "5 \\\\\n",
    "21\n",
    "\\end{pmatrix}\n",
    "$$\n",
    "\n",
    "After LU Decomposition we get:\n",
    "\n",
    "$$\n",
    "\\begin{pmatrix}\n",
    "1 & 2 \\\\\n",
    "4 & 9\n",
    "\\end{pmatrix}=\\begin{pmatrix}\n",
    "1 & 0 \\\\\n",
    "4  & 1\n",
    "\\end{pmatrix}\\cdot \\begin{pmatrix}\n",
    "1 & 2 \\\\\n",
    "0 & 1\n",
    "\\end{pmatrix}\n",
    "$$\n"
   ]
  },
  {
   "cell_type": "code",
   "execution_count": null,
   "metadata": {},
   "outputs": [
    {
     "name": "stdout",
     "output_type": "stream",
     "text": [
      "[[1. 0.]\n",
      " [4. 1.]]\n",
      "[[1 2]\n",
      " [0 1]]\n"
     ]
    }
   ],
   "source": [
    "A = np.array([[1, 2], [4, 9]])\n",
    "\n",
    "b = np.array([[5], [21]])\n",
    "L, U = LU(A)\n",
    "\n",
    "print(L)\n",
    "print(U)"
   ]
  },
  {
   "cell_type": "code",
   "execution_count": null,
   "metadata": {},
   "outputs": [
    {
     "name": "stdout",
     "output_type": "stream",
     "text": [
      "[[5.]\n",
      " [1.]]\n"
     ]
    }
   ],
   "source": [
    "y = la.solve(L, b)\n",
    "print(y)"
   ]
  },
  {
   "cell_type": "code",
   "execution_count": null,
   "metadata": {},
   "outputs": [
    {
     "name": "stdout",
     "output_type": "stream",
     "text": [
      "[[3.]\n",
      " [1.]]\n"
     ]
    }
   ],
   "source": [
    "x = la.solve(U, y)\n",
    "print(x)"
   ]
  },
  {
   "cell_type": "code",
   "execution_count": null,
   "metadata": {},
   "outputs": [
    {
     "data": {
      "text/plain": [
       "array([[0.],\n",
       "       [0.]])"
      ]
     },
     "execution_count": 35,
     "metadata": {},
     "output_type": "execute_result"
    }
   ],
   "source": [
    "A @ x - b"
   ]
  },
  {
   "cell_type": "code",
   "execution_count": null,
   "metadata": {},
   "outputs": [
    {
     "name": "stdout",
     "output_type": "stream",
     "text": [
      "[[1. 0. 0.]\n",
      " [2. 1. 0.]\n",
      " [4. 2. 1.]]\n",
      "[[ 1. -1.  3.]\n",
      " [ 0.  6. -3.]\n",
      " [ 0.  0. -2.]]\n",
      "[[-1.]\n",
      " [ 3.]\n",
      " [ 6.]]\n",
      "[[0.]\n",
      " [0.]\n",
      " [0.]]\n",
      "-12.0\n"
     ]
    }
   ],
   "source": [
    "A = np.array([[1, -1, 3], [2, 4, 3], [4, 8, 4]])\n",
    "\n",
    "\n",
    "# L,U = LUSteps(A)\n",
    "\n",
    "print(L)\n",
    "print(U)\n",
    "b = np.array([[-1], [1], [8]])\n",
    "\n",
    "y = la.solve(L, b)\n",
    "print(y)\n",
    "x = la.solve(U, y)\n",
    "\n",
    "print(A @ x - b)"
   ]
  }
 ],
 "metadata": {
  "kernelspec": {
   "display_name": "base",
   "language": "python",
   "name": "python3"
  },
  "language_info": {
   "codemirror_mode": {
    "name": "ipython",
    "version": 3
   },
   "file_extension": ".py",
   "mimetype": "text/x-python",
   "name": "python",
   "nbconvert_exporter": "python",
   "pygments_lexer": "ipython3",
   "version": "3.11.4"
  }
 },
 "nbformat": 4,
 "nbformat_minor": 2
}
